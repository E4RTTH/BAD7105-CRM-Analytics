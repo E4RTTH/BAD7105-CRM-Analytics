{
  "nbformat": 4,
  "nbformat_minor": 0,
  "metadata": {
    "colab": {
      "name": "Campaign Response Model - 6310422040- AUC_0.782 AUC_0.741.ipynb",
      "provenance": [],
      "collapsed_sections": []
    },
    "kernelspec": {
      "name": "python3",
      "display_name": "Python 3"
    },
    "language_info": {
      "name": "python"
    }
  },
  "cells": [
    {
      "cell_type": "markdown",
      "metadata": {
        "id": "EsDQxkuKzRW2"
      },
      "source": [
        "# Kavin Singhakhet - 6310422040"
      ]
    },
    {
      "cell_type": "markdown",
      "metadata": {
        "id": "Xru922YSzetF"
      },
      "source": [
        "## **Importing libraries and datasets**"
      ]
    },
    {
      "cell_type": "code",
      "metadata": {
        "id": "vk1aVjF2zjbG"
      },
      "source": [
        "import numpy as np\n",
        "import pandas as pd\n",
        "import datetime as dt\n",
        "\n",
        "import matplotlib.pyplot as plt\n",
        "import seaborn as sns\n",
        "import statistics\n",
        "\n",
        "from sklearn.model_selection import train_test_split\n",
        "from imblearn.under_sampling import RandomUnderSampler\n",
        "from imblearn.over_sampling import RandomOverSampler\n",
        "from imblearn.over_sampling import SMOTE\n",
        "\n",
        "from sklearn.ensemble import RandomForestClassifier\n",
        "from sklearn.neural_network import MLPClassifier\n",
        "from sklearn import svm\n",
        "import xgboost as xgb\n",
        "\n",
        "from sklearn.metrics import precision_score, recall_score, f1_score, auc, roc_auc_score, accuracy_score, classification_report, confusion_matrix, roc_curve\n",
        "from xgboost import plot_importance\n"
      ],
      "execution_count": 77,
      "outputs": []
    },
    {
      "cell_type": "code",
      "metadata": {
        "colab": {
          "base_uri": "https://localhost:8080/"
        },
        "id": "7eDaZ9oY2KAy",
        "outputId": "b03bfe1f-d7bd-43cd-85ea-60a5939104fc"
      },
      "source": [
        "from google.colab import drive\n",
        "drive.mount('/content/drive')"
      ],
      "execution_count": 3,
      "outputs": [
        {
          "output_type": "stream",
          "name": "stdout",
          "text": [
            "Drive already mounted at /content/drive; to attempt to forcibly remount, call drive.mount(\"/content/drive\", force_remount=True).\n"
          ]
        }
      ]
    },
    {
      "cell_type": "code",
      "metadata": {
        "id": "_8T7RU-b2FG_"
      },
      "source": [
        "# Import data\n",
        "\n",
        "df_response = pd.read_csv('/content/drive/MyDrive/NIDA/CRM/Campaign Response Model/Retail_Data_Response.csv')\n",
        "df_transactions = pd.read_csv('/content/drive/MyDrive/NIDA/CRM/Campaign Response Model/Retail_Data_Transactions.csv', parse_dates=['trans_date'])"
      ],
      "execution_count": 59,
      "outputs": []
    },
    {
      "cell_type": "code",
      "metadata": {
        "colab": {
          "base_uri": "https://localhost:8080/",
          "height": 204
        },
        "id": "NHE4ihuv2ooK",
        "outputId": "6c300563-398b-4b24-aaeb-963f1841b20c"
      },
      "source": [
        "df_response.head()"
      ],
      "execution_count": 60,
      "outputs": [
        {
          "output_type": "execute_result",
          "data": {
            "text/html": [
              "<div>\n",
              "<style scoped>\n",
              "    .dataframe tbody tr th:only-of-type {\n",
              "        vertical-align: middle;\n",
              "    }\n",
              "\n",
              "    .dataframe tbody tr th {\n",
              "        vertical-align: top;\n",
              "    }\n",
              "\n",
              "    .dataframe thead th {\n",
              "        text-align: right;\n",
              "    }\n",
              "</style>\n",
              "<table border=\"1\" class=\"dataframe\">\n",
              "  <thead>\n",
              "    <tr style=\"text-align: right;\">\n",
              "      <th></th>\n",
              "      <th>customer_id</th>\n",
              "      <th>response</th>\n",
              "    </tr>\n",
              "  </thead>\n",
              "  <tbody>\n",
              "    <tr>\n",
              "      <th>0</th>\n",
              "      <td>CS1112</td>\n",
              "      <td>0</td>\n",
              "    </tr>\n",
              "    <tr>\n",
              "      <th>1</th>\n",
              "      <td>CS1113</td>\n",
              "      <td>0</td>\n",
              "    </tr>\n",
              "    <tr>\n",
              "      <th>2</th>\n",
              "      <td>CS1114</td>\n",
              "      <td>1</td>\n",
              "    </tr>\n",
              "    <tr>\n",
              "      <th>3</th>\n",
              "      <td>CS1115</td>\n",
              "      <td>1</td>\n",
              "    </tr>\n",
              "    <tr>\n",
              "      <th>4</th>\n",
              "      <td>CS1116</td>\n",
              "      <td>1</td>\n",
              "    </tr>\n",
              "  </tbody>\n",
              "</table>\n",
              "</div>"
            ],
            "text/plain": [
              "  customer_id  response\n",
              "0      CS1112         0\n",
              "1      CS1113         0\n",
              "2      CS1114         1\n",
              "3      CS1115         1\n",
              "4      CS1116         1"
            ]
          },
          "metadata": {},
          "execution_count": 60
        }
      ]
    },
    {
      "cell_type": "code",
      "metadata": {
        "colab": {
          "base_uri": "https://localhost:8080/",
          "height": 204
        },
        "id": "tf80FRsT2p3M",
        "outputId": "75b6ed8d-a544-4de7-fdc1-cc97c9db9fab"
      },
      "source": [
        "df_transactions.head()"
      ],
      "execution_count": 61,
      "outputs": [
        {
          "output_type": "execute_result",
          "data": {
            "text/html": [
              "<div>\n",
              "<style scoped>\n",
              "    .dataframe tbody tr th:only-of-type {\n",
              "        vertical-align: middle;\n",
              "    }\n",
              "\n",
              "    .dataframe tbody tr th {\n",
              "        vertical-align: top;\n",
              "    }\n",
              "\n",
              "    .dataframe thead th {\n",
              "        text-align: right;\n",
              "    }\n",
              "</style>\n",
              "<table border=\"1\" class=\"dataframe\">\n",
              "  <thead>\n",
              "    <tr style=\"text-align: right;\">\n",
              "      <th></th>\n",
              "      <th>customer_id</th>\n",
              "      <th>trans_date</th>\n",
              "      <th>tran_amount</th>\n",
              "    </tr>\n",
              "  </thead>\n",
              "  <tbody>\n",
              "    <tr>\n",
              "      <th>0</th>\n",
              "      <td>CS5295</td>\n",
              "      <td>2013-02-11</td>\n",
              "      <td>35</td>\n",
              "    </tr>\n",
              "    <tr>\n",
              "      <th>1</th>\n",
              "      <td>CS4768</td>\n",
              "      <td>2015-03-15</td>\n",
              "      <td>39</td>\n",
              "    </tr>\n",
              "    <tr>\n",
              "      <th>2</th>\n",
              "      <td>CS2122</td>\n",
              "      <td>2013-02-26</td>\n",
              "      <td>52</td>\n",
              "    </tr>\n",
              "    <tr>\n",
              "      <th>3</th>\n",
              "      <td>CS1217</td>\n",
              "      <td>2011-11-16</td>\n",
              "      <td>99</td>\n",
              "    </tr>\n",
              "    <tr>\n",
              "      <th>4</th>\n",
              "      <td>CS1850</td>\n",
              "      <td>2013-11-20</td>\n",
              "      <td>78</td>\n",
              "    </tr>\n",
              "  </tbody>\n",
              "</table>\n",
              "</div>"
            ],
            "text/plain": [
              "  customer_id trans_date  tran_amount\n",
              "0      CS5295 2013-02-11           35\n",
              "1      CS4768 2015-03-15           39\n",
              "2      CS2122 2013-02-26           52\n",
              "3      CS1217 2011-11-16           99\n",
              "4      CS1850 2013-11-20           78"
            ]
          },
          "metadata": {},
          "execution_count": 61
        }
      ]
    },
    {
      "cell_type": "code",
      "metadata": {
        "colab": {
          "base_uri": "https://localhost:8080/"
        },
        "id": "jeWMRwDw2rky",
        "outputId": "c85a4723-cddd-4358-aa06-53f3deba73b5"
      },
      "source": [
        "print(df_transactions['trans_date'].min())\n",
        "print(df_transactions['trans_date'].max())"
      ],
      "execution_count": 62,
      "outputs": [
        {
          "output_type": "stream",
          "name": "stdout",
          "text": [
            "2011-05-16 00:00:00\n",
            "2015-03-16 00:00:00\n"
          ]
        }
      ]
    },
    {
      "cell_type": "markdown",
      "metadata": {
        "id": "RZsZDzdF2vYs"
      },
      "source": [
        "## **Data Preparation**"
      ]
    },
    {
      "cell_type": "code",
      "metadata": {
        "colab": {
          "base_uri": "https://localhost:8080/",
          "height": 204
        },
        "id": "YiZa24lK2vEO",
        "outputId": "e53c72bf-ffaf-4501-a0d6-94bfa094528e"
      },
      "source": [
        "campaign_date = dt.datetime(2015,3,17)\n",
        "df_transactions['recent']= campaign_date - df_transactions['trans_date']\n",
        "df_transactions['recent'].astype('timedelta64[D]')\n",
        "df_transactions['recent']=df_transactions['recent'] / np.timedelta64(1, 'D')\n",
        "df_transactions['tran_amount1'] = df_transactions['tran_amount']\n",
        "df_transactions['tran_amount2'] = df_transactions['tran_amount']\n",
        "df_transactions['tran_amount3'] = df_transactions['tran_amount']\n",
        "df_transactions.head()"
      ],
      "execution_count": 90,
      "outputs": [
        {
          "output_type": "execute_result",
          "data": {
            "text/html": [
              "<div>\n",
              "<style scoped>\n",
              "    .dataframe tbody tr th:only-of-type {\n",
              "        vertical-align: middle;\n",
              "    }\n",
              "\n",
              "    .dataframe tbody tr th {\n",
              "        vertical-align: top;\n",
              "    }\n",
              "\n",
              "    .dataframe thead th {\n",
              "        text-align: right;\n",
              "    }\n",
              "</style>\n",
              "<table border=\"1\" class=\"dataframe\">\n",
              "  <thead>\n",
              "    <tr style=\"text-align: right;\">\n",
              "      <th></th>\n",
              "      <th>customer_id</th>\n",
              "      <th>trans_date</th>\n",
              "      <th>tran_amount</th>\n",
              "      <th>recent</th>\n",
              "      <th>tran_amount1</th>\n",
              "      <th>tran_amount2</th>\n",
              "      <th>tran_amount3</th>\n",
              "    </tr>\n",
              "  </thead>\n",
              "  <tbody>\n",
              "    <tr>\n",
              "      <th>0</th>\n",
              "      <td>CS5295</td>\n",
              "      <td>2013-02-11</td>\n",
              "      <td>35</td>\n",
              "      <td>764.0</td>\n",
              "      <td>35</td>\n",
              "      <td>35</td>\n",
              "      <td>35</td>\n",
              "    </tr>\n",
              "    <tr>\n",
              "      <th>1</th>\n",
              "      <td>CS4768</td>\n",
              "      <td>2015-03-15</td>\n",
              "      <td>39</td>\n",
              "      <td>2.0</td>\n",
              "      <td>39</td>\n",
              "      <td>39</td>\n",
              "      <td>39</td>\n",
              "    </tr>\n",
              "    <tr>\n",
              "      <th>2</th>\n",
              "      <td>CS2122</td>\n",
              "      <td>2013-02-26</td>\n",
              "      <td>52</td>\n",
              "      <td>749.0</td>\n",
              "      <td>52</td>\n",
              "      <td>52</td>\n",
              "      <td>52</td>\n",
              "    </tr>\n",
              "    <tr>\n",
              "      <th>3</th>\n",
              "      <td>CS1217</td>\n",
              "      <td>2011-11-16</td>\n",
              "      <td>99</td>\n",
              "      <td>1217.0</td>\n",
              "      <td>99</td>\n",
              "      <td>99</td>\n",
              "      <td>99</td>\n",
              "    </tr>\n",
              "    <tr>\n",
              "      <th>4</th>\n",
              "      <td>CS1850</td>\n",
              "      <td>2013-11-20</td>\n",
              "      <td>78</td>\n",
              "      <td>482.0</td>\n",
              "      <td>78</td>\n",
              "      <td>78</td>\n",
              "      <td>78</td>\n",
              "    </tr>\n",
              "  </tbody>\n",
              "</table>\n",
              "</div>"
            ],
            "text/plain": [
              "  customer_id trans_date  tran_amount  ...  tran_amount1  tran_amount2  tran_amount3\n",
              "0      CS5295 2013-02-11           35  ...            35            35            35\n",
              "1      CS4768 2015-03-15           39  ...            39            39            39\n",
              "2      CS2122 2013-02-26           52  ...            52            52            52\n",
              "3      CS1217 2011-11-16           99  ...            99            99            99\n",
              "4      CS1850 2013-11-20           78  ...            78            78            78\n",
              "\n",
              "[5 rows x 7 columns]"
            ]
          },
          "metadata": {},
          "execution_count": 90
        }
      ]
    },
    {
      "cell_type": "code",
      "metadata": {
        "id": "kL9CY2a63w3n"
      },
      "source": [
        "## create data set with CLV variables\n",
        "\n",
        "df_clv = df_transactions.groupby('customer_id').agg({'recent': lambda x:x.min(),                    \n",
        "                                                     'customer_id': lambda x: len(x),                 \n",
        "                                                     'tran_amount': lambda x: x.sum(),                       \n",
        "                                                     'trans_date': lambda x: (x.max() - x.min()).days,\n",
        "                                                     'tran_amount1': lambda x: statistics.stdev(x),\n",
        "                                                     'tran_amount2': lambda x: max(x),\n",
        "                                                     'tran_amount3': lambda x: min(x)})       \n",
        "\n",
        "df_clv.rename(columns={'recent': 'recency', \n",
        "                       'customer_id': 'frequency', \n",
        "                       'tran_amount': 'monetary_value',\n",
        "                       'trans_date' : 'AOU',\n",
        "                       'tran_amount1': 'SD',\n",
        "                       'tran_amount2': 'max_spend',\n",
        "                       'tran_amount3': 'min_spend'}, inplace=True)\n",
        "\n",
        "df_clv['ticket_size'] = df_clv['monetary_value'] / df_clv['frequency']"
      ],
      "execution_count": 93,
      "outputs": []
    },
    {
      "cell_type": "code",
      "metadata": {
        "colab": {
          "base_uri": "https://localhost:8080/",
          "height": 204
        },
        "id": "JHxCMd1O3zqP",
        "outputId": "eacea5ac-daef-4299-ae86-6e5921b6df12"
      },
      "source": [
        "df_clv = df_clv.reset_index()\n",
        "df_clv.head()"
      ],
      "execution_count": 94,
      "outputs": [
        {
          "output_type": "execute_result",
          "data": {
            "text/html": [
              "<div>\n",
              "<style scoped>\n",
              "    .dataframe tbody tr th:only-of-type {\n",
              "        vertical-align: middle;\n",
              "    }\n",
              "\n",
              "    .dataframe tbody tr th {\n",
              "        vertical-align: top;\n",
              "    }\n",
              "\n",
              "    .dataframe thead th {\n",
              "        text-align: right;\n",
              "    }\n",
              "</style>\n",
              "<table border=\"1\" class=\"dataframe\">\n",
              "  <thead>\n",
              "    <tr style=\"text-align: right;\">\n",
              "      <th></th>\n",
              "      <th>customer_id</th>\n",
              "      <th>recency</th>\n",
              "      <th>frequency</th>\n",
              "      <th>monetary_value</th>\n",
              "      <th>AOU</th>\n",
              "      <th>SD</th>\n",
              "      <th>max_spend</th>\n",
              "      <th>min_spend</th>\n",
              "      <th>ticket_size</th>\n",
              "    </tr>\n",
              "  </thead>\n",
              "  <tbody>\n",
              "    <tr>\n",
              "      <th>0</th>\n",
              "      <td>CS1112</td>\n",
              "      <td>62.0</td>\n",
              "      <td>15</td>\n",
              "      <td>1012</td>\n",
              "      <td>1309</td>\n",
              "      <td>19.766012</td>\n",
              "      <td>105</td>\n",
              "      <td>36</td>\n",
              "      <td>67.466667</td>\n",
              "    </tr>\n",
              "    <tr>\n",
              "      <th>1</th>\n",
              "      <td>CS1113</td>\n",
              "      <td>36.0</td>\n",
              "      <td>20</td>\n",
              "      <td>1490</td>\n",
              "      <td>1354</td>\n",
              "      <td>21.254102</td>\n",
              "      <td>98</td>\n",
              "      <td>36</td>\n",
              "      <td>74.500000</td>\n",
              "    </tr>\n",
              "    <tr>\n",
              "      <th>2</th>\n",
              "      <td>CS1114</td>\n",
              "      <td>33.0</td>\n",
              "      <td>19</td>\n",
              "      <td>1432</td>\n",
              "      <td>1309</td>\n",
              "      <td>21.341692</td>\n",
              "      <td>105</td>\n",
              "      <td>37</td>\n",
              "      <td>75.368421</td>\n",
              "    </tr>\n",
              "    <tr>\n",
              "      <th>3</th>\n",
              "      <td>CS1115</td>\n",
              "      <td>12.0</td>\n",
              "      <td>22</td>\n",
              "      <td>1659</td>\n",
              "      <td>1303</td>\n",
              "      <td>18.151896</td>\n",
              "      <td>104</td>\n",
              "      <td>41</td>\n",
              "      <td>75.409091</td>\n",
              "    </tr>\n",
              "    <tr>\n",
              "      <th>4</th>\n",
              "      <td>CS1116</td>\n",
              "      <td>204.0</td>\n",
              "      <td>13</td>\n",
              "      <td>857</td>\n",
              "      <td>1155</td>\n",
              "      <td>22.940000</td>\n",
              "      <td>105</td>\n",
              "      <td>40</td>\n",
              "      <td>65.923077</td>\n",
              "    </tr>\n",
              "  </tbody>\n",
              "</table>\n",
              "</div>"
            ],
            "text/plain": [
              "  customer_id  recency  frequency  ...  max_spend  min_spend  ticket_size\n",
              "0      CS1112     62.0         15  ...        105         36    67.466667\n",
              "1      CS1113     36.0         20  ...         98         36    74.500000\n",
              "2      CS1114     33.0         19  ...        105         37    75.368421\n",
              "3      CS1115     12.0         22  ...        104         41    75.409091\n",
              "4      CS1116    204.0         13  ...        105         40    65.923077\n",
              "\n",
              "[5 rows x 9 columns]"
            ]
          },
          "metadata": {},
          "execution_count": 94
        }
      ]
    },
    {
      "cell_type": "markdown",
      "metadata": {
        "id": "1_9FG60-6RRJ"
      },
      "source": [
        "## **Calculating response rate**"
      ]
    },
    {
      "cell_type": "code",
      "metadata": {
        "colab": {
          "base_uri": "https://localhost:8080/",
          "height": 111
        },
        "id": "mm9tmqRy6QkJ",
        "outputId": "d023369c-e5b1-4f75-806b-23514b3302ea"
      },
      "source": [
        "response_rate = df_response.groupby('response').agg({'customer_id': lambda x: len(x)}).reset_index()\n",
        "response_rate.head()"
      ],
      "execution_count": 95,
      "outputs": [
        {
          "output_type": "execute_result",
          "data": {
            "text/html": [
              "<div>\n",
              "<style scoped>\n",
              "    .dataframe tbody tr th:only-of-type {\n",
              "        vertical-align: middle;\n",
              "    }\n",
              "\n",
              "    .dataframe tbody tr th {\n",
              "        vertical-align: top;\n",
              "    }\n",
              "\n",
              "    .dataframe thead th {\n",
              "        text-align: right;\n",
              "    }\n",
              "</style>\n",
              "<table border=\"1\" class=\"dataframe\">\n",
              "  <thead>\n",
              "    <tr style=\"text-align: right;\">\n",
              "      <th></th>\n",
              "      <th>response</th>\n",
              "      <th>customer_id</th>\n",
              "    </tr>\n",
              "  </thead>\n",
              "  <tbody>\n",
              "    <tr>\n",
              "      <th>0</th>\n",
              "      <td>0</td>\n",
              "      <td>6237</td>\n",
              "    </tr>\n",
              "    <tr>\n",
              "      <th>1</th>\n",
              "      <td>1</td>\n",
              "      <td>647</td>\n",
              "    </tr>\n",
              "  </tbody>\n",
              "</table>\n",
              "</div>"
            ],
            "text/plain": [
              "   response  customer_id\n",
              "0         0         6237\n",
              "1         1          647"
            ]
          },
          "metadata": {},
          "execution_count": 95
        }
      ]
    },
    {
      "cell_type": "code",
      "metadata": {
        "colab": {
          "base_uri": "https://localhost:8080/",
          "height": 350
        },
        "id": "eU3SdPYl6V26",
        "outputId": "41d06f24-f5e8-4088-fb19-57052dde138d"
      },
      "source": [
        "plt.figure(figsize=(5,5))\n",
        "x=range(2)\n",
        "plt.bar(x,response_rate['customer_id'])\n",
        "plt.xticks(response_rate.index)\n",
        "plt.title('Response Distribution')\n",
        "plt.xlabel('Convert or Not')\n",
        "plt.ylabel('no. of users')\n",
        "plt.show()"
      ],
      "execution_count": 96,
      "outputs": [
        {
          "output_type": "display_data",
          "data": {
            "image/png": "[encoded data removed]",
            "text/plain": [
              "<Figure size 360x360 with 1 Axes>"
            ]
          },
          "metadata": {
            "needs_background": "light"
          }
        }
      ]
    },
    {
      "cell_type": "code",
      "metadata": {
        "colab": {
          "base_uri": "https://localhost:8080/",
          "height": 204
        },
        "id": "rQQiMj9O6W2Q",
        "outputId": "3294602e-b74d-49d8-da33-6fce1aab9484"
      },
      "source": [
        "## merging two data sets - CLV\n",
        "\n",
        "df_modeling_clv = pd.merge(df_response,df_clv)\n",
        "df_modeling_clv.head()"
      ],
      "execution_count": 97,
      "outputs": [
        {
          "output_type": "execute_result",
          "data": {
            "text/html": [
              "<div>\n",
              "<style scoped>\n",
              "    .dataframe tbody tr th:only-of-type {\n",
              "        vertical-align: middle;\n",
              "    }\n",
              "\n",
              "    .dataframe tbody tr th {\n",
              "        vertical-align: top;\n",
              "    }\n",
              "\n",
              "    .dataframe thead th {\n",
              "        text-align: right;\n",
              "    }\n",
              "</style>\n",
              "<table border=\"1\" class=\"dataframe\">\n",
              "  <thead>\n",
              "    <tr style=\"text-align: right;\">\n",
              "      <th></th>\n",
              "      <th>customer_id</th>\n",
              "      <th>response</th>\n",
              "      <th>recency</th>\n",
              "      <th>frequency</th>\n",
              "      <th>monetary_value</th>\n",
              "      <th>AOU</th>\n",
              "      <th>SD</th>\n",
              "      <th>max_spend</th>\n",
              "      <th>min_spend</th>\n",
              "      <th>ticket_size</th>\n",
              "    </tr>\n",
              "  </thead>\n",
              "  <tbody>\n",
              "    <tr>\n",
              "      <th>0</th>\n",
              "      <td>CS1112</td>\n",
              "      <td>0</td>\n",
              "      <td>62.0</td>\n",
              "      <td>15</td>\n",
              "      <td>1012</td>\n",
              "      <td>1309</td>\n",
              "      <td>19.766012</td>\n",
              "      <td>105</td>\n",
              "      <td>36</td>\n",
              "      <td>67.466667</td>\n",
              "    </tr>\n",
              "    <tr>\n",
              "      <th>1</th>\n",
              "      <td>CS1113</td>\n",
              "      <td>0</td>\n",
              "      <td>36.0</td>\n",
              "      <td>20</td>\n",
              "      <td>1490</td>\n",
              "      <td>1354</td>\n",
              "      <td>21.254102</td>\n",
              "      <td>98</td>\n",
              "      <td>36</td>\n",
              "      <td>74.500000</td>\n",
              "    </tr>\n",
              "    <tr>\n",
              "      <th>2</th>\n",
              "      <td>CS1114</td>\n",
              "      <td>1</td>\n",
              "      <td>33.0</td>\n",
              "      <td>19</td>\n",
              "      <td>1432</td>\n",
              "      <td>1309</td>\n",
              "      <td>21.341692</td>\n",
              "      <td>105</td>\n",
              "      <td>37</td>\n",
              "      <td>75.368421</td>\n",
              "    </tr>\n",
              "    <tr>\n",
              "      <th>3</th>\n",
              "      <td>CS1115</td>\n",
              "      <td>1</td>\n",
              "      <td>12.0</td>\n",
              "      <td>22</td>\n",
              "      <td>1659</td>\n",
              "      <td>1303</td>\n",
              "      <td>18.151896</td>\n",
              "      <td>104</td>\n",
              "      <td>41</td>\n",
              "      <td>75.409091</td>\n",
              "    </tr>\n",
              "    <tr>\n",
              "      <th>4</th>\n",
              "      <td>CS1116</td>\n",
              "      <td>1</td>\n",
              "      <td>204.0</td>\n",
              "      <td>13</td>\n",
              "      <td>857</td>\n",
              "      <td>1155</td>\n",
              "      <td>22.940000</td>\n",
              "      <td>105</td>\n",
              "      <td>40</td>\n",
              "      <td>65.923077</td>\n",
              "    </tr>\n",
              "  </tbody>\n",
              "</table>\n",
              "</div>"
            ],
            "text/plain": [
              "  customer_id  response  recency  ...  max_spend  min_spend  ticket_size\n",
              "0      CS1112         0     62.0  ...        105         36    67.466667\n",
              "1      CS1113         0     36.0  ...         98         36    74.500000\n",
              "2      CS1114         1     33.0  ...        105         37    75.368421\n",
              "3      CS1115         1     12.0  ...        104         41    75.409091\n",
              "4      CS1116         1    204.0  ...        105         40    65.923077\n",
              "\n",
              "[5 rows x 10 columns]"
            ]
          },
          "metadata": {},
          "execution_count": 97
        }
      ]
    },
    {
      "cell_type": "markdown",
      "metadata": {
        "id": "vmE9dtJ16eWl"
      },
      "source": [
        "## **Creating train and test dataset**"
      ]
    },
    {
      "cell_type": "code",
      "metadata": {
        "id": "1ShN1o0L6drq"
      },
      "source": [
        "##  spliting dataframe into X and y\n",
        "\n",
        "X_clv = df_modeling_clv.drop(columns=['response','customer_id'])\n",
        "y_clv = df_modeling_clv['response']"
      ],
      "execution_count": 103,
      "outputs": []
    },
    {
      "cell_type": "code",
      "metadata": {
        "id": "St1hBYIK6jtw"
      },
      "source": [
        "## creating train and test dataset\n",
        "\n",
        "X_train_clv, X_test_clv, y_train_clv, y_test_clv = train_test_split(X_clv, y_clv, test_size=0.2, random_state=21)"
      ],
      "execution_count": 104,
      "outputs": []
    },
    {
      "cell_type": "markdown",
      "metadata": {
        "id": "YfK0KYIW64h6"
      },
      "source": [
        "## **Fixing imbalanced with SMOTE**"
      ]
    },
    {
      "cell_type": "code",
      "metadata": {
        "colab": {
          "base_uri": "https://localhost:8080/"
        },
        "id": "uh7NuweE64Q1",
        "outputId": "78e1878f-2411-40f4-cdda-808b5b138c98"
      },
      "source": [
        "sm = SMOTE(random_state=0)\n",
        "\n",
        "sm.fit(X_train_clv, y_train_clv)\n",
        "X_SMOTE_clv, y_SMOTE_clv = sm.fit_sample(X_train_clv, y_train_clv)"
      ],
      "execution_count": 105,
      "outputs": [
        {
          "output_type": "stream",
          "name": "stderr",
          "text": [
            "/usr/local/lib/python3.7/dist-packages/sklearn/utils/deprecation.py:87: FutureWarning: Function safe_indexing is deprecated; safe_indexing is deprecated in version 0.22 and will be removed in version 0.24.\n",
            "  warnings.warn(msg, category=FutureWarning)\n"
          ]
        }
      ]
    },
    {
      "cell_type": "markdown",
      "metadata": {
        "id": "LFw31JT86-W-"
      },
      "source": [
        "## **XGBoost**"
      ]
    },
    {
      "cell_type": "code",
      "metadata": {
        "colab": {
          "base_uri": "https://localhost:8080/"
        },
        "id": "g2tYQW-2697i",
        "outputId": "e385a03f-204e-4678-f7fa-99d1c221b635"
      },
      "source": [
        "print('XGBoost model - SMOTE CLV')\n",
        "\n",
        "xgb_model = xgb.XGBClassifier(objective='binary:logistic', eval_metric='auc',\n",
        " learning_rate =0.01,\n",
        " n_estimators=100,\n",
        " max_depth=2,\n",
        " gamma=0.0,\n",
        " colsample_bytree=0.6)\n",
        "\n",
        "predicted_y = []\n",
        "expected_y = []\n",
        "\n",
        "xgb_model_SMOTE_clv = xgb_model.fit(X_SMOTE_clv, y_SMOTE_clv, early_stopping_rounds=5, eval_set=[(X_test_clv.to_numpy(), y_test_clv)])\n",
        "predictions =  xgb_model_SMOTE_clv.predict(X_SMOTE_clv)\n",
        "predicted_y.extend(predictions)\n",
        "expected_y.extend(y_SMOTE_clv)\n",
        "report_train = classification_report(expected_y, predicted_y)\n",
        "print('training set')\n",
        "print(report_train) \n",
        "\n",
        "predicted_y = []\n",
        "expected_y = []\n",
        "predictions = xgb_model_SMOTE_clv.predict(X_test_clv.to_numpy())\n",
        "predicted_y.extend(predictions)\n",
        "expected_y.extend(y_test_clv)\n",
        "report_test = classification_report(expected_y, predicted_y)\n",
        "print('test set')\n",
        "print(report_test) "
      ],
      "execution_count": 106,
      "outputs": [
        {
          "output_type": "stream",
          "name": "stdout",
          "text": [
            "XGBoost model - SMOTE CLV\n",
            "[0]\tvalidation_0-auc:0.660398\n",
            "Will train until validation_0-auc hasn't improved in 5 rounds.\n",
            "[1]\tvalidation_0-auc:0.676319\n",
            "[2]\tvalidation_0-auc:0.694683\n",
            "[3]\tvalidation_0-auc:0.694683\n",
            "[4]\tvalidation_0-auc:0.694683\n",
            "[5]\tvalidation_0-auc:0.701896\n",
            "[6]\tvalidation_0-auc:0.707952\n",
            "[7]\tvalidation_0-auc:0.70356\n",
            "[8]\tvalidation_0-auc:0.707326\n",
            "[9]\tvalidation_0-auc:0.714671\n",
            "[10]\tvalidation_0-auc:0.71603\n",
            "[11]\tvalidation_0-auc:0.716733\n",
            "[12]\tvalidation_0-auc:0.717323\n",
            "[13]\tvalidation_0-auc:0.72373\n",
            "[14]\tvalidation_0-auc:0.724818\n",
            "[15]\tvalidation_0-auc:0.721496\n",
            "[16]\tvalidation_0-auc:0.71726\n",
            "[17]\tvalidation_0-auc:0.715888\n",
            "[18]\tvalidation_0-auc:0.714794\n",
            "[19]\tvalidation_0-auc:0.71252\n",
            "Stopping. Best iteration:\n",
            "[14]\tvalidation_0-auc:0.724818\n",
            "\n",
            "training set\n",
            "              precision    recall  f1-score   support\n",
            "\n",
            "           0       0.77      0.53      0.63      4980\n",
            "           1       0.64      0.84      0.73      4980\n",
            "\n",
            "    accuracy                           0.69      9960\n",
            "   macro avg       0.71      0.69      0.68      9960\n",
            "weighted avg       0.71      0.69      0.68      9960\n",
            "\n",
            "test set\n",
            "              precision    recall  f1-score   support\n",
            "\n",
            "           0       0.96      0.54      0.69      1257\n",
            "           1       0.14      0.79      0.24       120\n",
            "\n",
            "    accuracy                           0.56      1377\n",
            "   macro avg       0.55      0.67      0.47      1377\n",
            "weighted avg       0.89      0.56      0.65      1377\n",
            "\n"
          ]
        }
      ]
    },
    {
      "cell_type": "code",
      "metadata": {
        "colab": {
          "base_uri": "https://localhost:8080/",
          "height": 265
        },
        "id": "vJYH36CQD4xs",
        "outputId": "8c6864cb-2db1-43ca-c90f-be50fc468acb"
      },
      "source": [
        "## AUC XGBoost\n",
        "\n",
        "y_score_train = xgb_model_SMOTE_clv.predict_proba(X_SMOTE_clv)\n",
        "fpr_train, tpr_train, _ = roc_curve(y_SMOTE_clv, y_score_train[:,1])\n",
        "auc_train = roc_auc_score(y_SMOTE_clv, y_score_train[:,1])\n",
        "plt.plot(fpr_train, tpr_train, color='red', label=f'SMOTE - train , auc={auc_train}')\n",
        "\n",
        "y_score_test = xgb_model_SMOTE_clv.predict_proba(X_test_clv.to_numpy())\n",
        "fpr_test, tpr_test, _ = roc_curve(y_test_clv, y_score_test[:,1])\n",
        "auc_test = roc_auc_score(y_test_clv, y_score_test[:,1])\n",
        "plt.plot(fpr_test, tpr_test, color='blue', label=f'SMOTE - test , auc={auc_test}')\n",
        "\n",
        "plt.plot([0, 1], [0, 1], color='navy', lw=2, linestyle='--')\n",
        "plt.legend(loc=4)\n",
        "plt.show()"
      ],
      "execution_count": 108,
      "outputs": [
        {
          "output_type": "display_data",
          "data": {
            "image/png": "[encoded data removed]",
            "text/plain": [
              "<Figure size 432x288 with 1 Axes>"
            ]
          },
          "metadata": {
            "needs_background": "light"
          }
        }
      ]
    },
    {
      "cell_type": "code",
      "metadata": {
        "id": "ET5IupQF8ilo"
      },
      "source": [
        "## building pipeline for hyperparameter tuning\n",
        "\n",
        "from sklearn.pipeline import Pipeline\n",
        "from sklearn.feature_selection import SelectKBest, chi2\n",
        "\n",
        "# Create a pipeline\n",
        "pipe = Pipeline([\n",
        "  ('fs', SelectKBest()),\n",
        "  ('clf', xgb.XGBClassifier(objective='binary:logistic', scale_pos_weight=9))\n",
        "])"
      ],
      "execution_count": 109,
      "outputs": []
    },
    {
      "cell_type": "code",
      "metadata": {
        "colab": {
          "base_uri": "https://localhost:8080/"
        },
        "id": "Yf53wan_8m2A",
        "outputId": "82195b5a-0dcb-4224-811d-5c950c3e49e7"
      },
      "source": [
        "## hyper parameter tuning - grid search\n",
        "\n",
        "from sklearn.model_selection import KFold, GridSearchCV\n",
        "from sklearn.metrics import accuracy_score, make_scorer\n",
        "# Define our search space for grid search\n",
        "search_space = [\n",
        "  {\n",
        "    'clf__n_estimators': [100, 1000],\n",
        "    'clf__learning_rate': [0.01, 0.2],\n",
        "    'clf__max_depth': range(2, 4),\n",
        "    'clf__colsample_bytree': [i/10.0 for i in range(4, 7)],\n",
        "    'clf__gamma': [i/10.0 for i in range(3)],\n",
        "    'fs__score_func': [chi2],\n",
        "    'fs__k': [2],\n",
        "  }\n",
        "]\n",
        "# Define cross validation\n",
        "kfold = KFold(n_splits=10, random_state=42)\n",
        "# AUC and F1 as score\n",
        "scoring = {'AUC':'roc_auc','F1 score': 'f1_micro'}\n",
        "# Define grid search\n",
        "grid = GridSearchCV(\n",
        "  pipe,\n",
        "  param_grid=search_space,\n",
        "  cv=kfold,\n",
        "  scoring=scoring,\n",
        "  refit='AUC',\n",
        "  verbose=1,\n",
        "  n_jobs=-1\n",
        ")\n",
        "\n",
        "# Fit grid search\n",
        "\n",
        "xgb_model_clv_GS = grid.fit(X_train_clv, y_train_clv)"
      ],
      "execution_count": 128,
      "outputs": [
        {
          "output_type": "stream",
          "name": "stdout",
          "text": [
            "Fitting 10 folds for each of 72 candidates, totalling 720 fits\n"
          ]
        },
        {
          "output_type": "stream",
          "name": "stderr",
          "text": [
            "/usr/local/lib/python3.7/dist-packages/sklearn/model_selection/_split.py:296: FutureWarning: Setting a random_state has no effect since shuffle is False. This will raise an error in 0.24. You should leave random_state to its default (None), or set shuffle=True.\n",
            "  FutureWarning\n",
            "[Parallel(n_jobs=-1)]: Using backend LokyBackend with 2 concurrent workers.\n",
            "[Parallel(n_jobs=-1)]: Done  46 tasks      | elapsed:   25.7s\n",
            "[Parallel(n_jobs=-1)]: Done 196 tasks      | elapsed:  1.9min\n",
            "[Parallel(n_jobs=-1)]: Done 446 tasks      | elapsed:  4.2min\n",
            "[Parallel(n_jobs=-1)]: Done 720 out of 720 | elapsed:  6.9min finished\n"
          ]
        }
      ]
    },
    {
      "cell_type": "code",
      "metadata": {
        "colab": {
          "base_uri": "https://localhost:8080/"
        },
        "id": "egNTBJOH8n9m",
        "outputId": "3035a715-ed18-408e-a2e2-318cabc138f6"
      },
      "source": [
        "predicted_y = []\n",
        "expected_y = []\n",
        "predictions = xgb_model_clv_GS.predict(X_test_clv)\n",
        "print('Best AUC Score: {}'.format(xgb_model_clv_GS.best_score_))\n",
        "print(confusion_matrix(y_test_clv,predictions))\n",
        "\n",
        "\n",
        "predicted_y.extend(predictions)\n",
        "expected_y.extend(y_test_clv)\n",
        "report_test = classification_report(expected_y, predicted_y)\n",
        "print('test set')\n",
        "print(report_test) "
      ],
      "execution_count": 134,
      "outputs": [
        {
          "output_type": "stream",
          "name": "stdout",
          "text": [
            "Best AUC Score: 0.7130751577363472\n",
            "[[651 606]\n",
            " [ 19 101]]\n",
            "test set\n",
            "              precision    recall  f1-score   support\n",
            "\n",
            "           0       0.97      0.52      0.68      1257\n",
            "           1       0.14      0.84      0.24       120\n",
            "\n",
            "    accuracy                           0.55      1377\n",
            "   macro avg       0.56      0.68      0.46      1377\n",
            "weighted avg       0.90      0.55      0.64      1377\n",
            "\n"
          ]
        }
      ]
    },
    {
      "cell_type": "code",
      "metadata": {
        "colab": {
          "base_uri": "https://localhost:8080/"
        },
        "id": "o4EJw39f8pU2",
        "outputId": "12e74e05-8149-4801-b158-f60aa35c4440"
      },
      "source": [
        "print(xgb_model_clv_GS.best_params_)"
      ],
      "execution_count": 135,
      "outputs": [
        {
          "output_type": "stream",
          "name": "stdout",
          "text": [
            "{'clf__colsample_bytree': 0.4, 'clf__gamma': 0.0, 'clf__learning_rate': 0.01, 'clf__max_depth': 2, 'clf__n_estimators': 100, 'fs__k': 2, 'fs__score_func': <function chi2 at 0x7f968badf3b0>}\n"
          ]
        }
      ]
    },
    {
      "cell_type": "code",
      "metadata": {
        "colab": {
          "base_uri": "https://localhost:8080/",
          "height": 265
        },
        "id": "KvkW7zG-FynP",
        "outputId": "416e4f02-c8b6-4cdd-8cbf-716254a9e7d7"
      },
      "source": [
        "## AUC\n",
        "\n",
        "y_score_train = xgb_model_clv_GS.predict_proba(X_SMOTE_clv)\n",
        "fpr_train, tpr_train, _ = roc_curve(y_SMOTE_clv, y_score_train[:,1])\n",
        "auc_train = roc_auc_score(y_SMOTE_clv, y_score_train[:,1])\n",
        "plt.plot(fpr_train, tpr_train, color='red', label=f'SMOTE - train , auc={auc_train}')\n",
        "\n",
        "y_score_test = xgb_model_clv_GS.predict_proba(X_test_clv.to_numpy())\n",
        "fpr_test, tpr_test, _ = roc_curve(y_test_clv, y_score_test[:,1])\n",
        "auc_test = roc_auc_score(y_test_clv, y_score_test[:,1])\n",
        "plt.plot(fpr_test, tpr_test, color='blue', label=f'SMOTE - test , auc={auc_test}')\n",
        "\n",
        "plt.plot([0, 1], [0, 1], color='navy', lw=2, linestyle='--')\n",
        "plt.legend(loc=4)\n",
        "plt.show()"
      ],
      "execution_count": 136,
      "outputs": [
        {
          "output_type": "display_data",
          "data": {
            "image/png": "[encoded data removed]",
            "text/plain": [
              "<Figure size 432x288 with 1 Axes>"
            ]
          },
          "metadata": {
            "needs_background": "light"
          }
        }
      ]
    },
    {
      "cell_type": "markdown",
      "metadata": {
        "id": "Wh8cHMNkBUeC"
      },
      "source": [
        "## **MLPClassifier**"
      ]
    },
    {
      "cell_type": "code",
      "metadata": {
        "colab": {
          "base_uri": "https://localhost:8080/"
        },
        "id": "uqM3XEioC-Mn",
        "outputId": "5eae49cf-ab17-4f25-fa00-e3ab4fc2f1d5"
      },
      "source": [
        "print('MLPClassifier model - SMOTE CLV')\n",
        "\n",
        "clf = MLPClassifier(random_state=1, max_iter=300)\n",
        "\n",
        "predicted_y = []\n",
        "expected_y = []\n",
        "\n",
        "mlp_model_SMOTE_clv = clf.fit(X_SMOTE_clv, y_SMOTE_clv)\n",
        "predictions =  mlp_model_SMOTE_clv.predict(X_SMOTE_clv)\n",
        "predicted_y.extend(predictions)\n",
        "expected_y.extend(y_SMOTE_clv)\n",
        "report_train = classification_report(expected_y, predicted_y)\n",
        "print('training set')\n",
        "print(report_train) \n",
        "\n",
        "predicted_y = []\n",
        "expected_y = []\n",
        "predictions = mlp_model_SMOTE_clv.predict(X_test_clv.to_numpy())\n",
        "predicted_y.extend(predictions)\n",
        "expected_y.extend(y_test_clv)\n",
        "report_test = classification_report(expected_y, predicted_y)\n",
        "print('test set')\n",
        "print(report_test) "
      ],
      "execution_count": 118,
      "outputs": [
        {
          "output_type": "stream",
          "name": "stdout",
          "text": [
            "MLPClassifier model - SMOTE CLV\n",
            "training set\n",
            "              precision    recall  f1-score   support\n",
            "\n",
            "           0       0.92      0.30      0.45      4980\n",
            "           1       0.58      0.97      0.73      4980\n",
            "\n",
            "    accuracy                           0.64      9960\n",
            "   macro avg       0.75      0.64      0.59      9960\n",
            "weighted avg       0.75      0.64      0.59      9960\n",
            "\n",
            "test set\n",
            "              precision    recall  f1-score   support\n",
            "\n",
            "           0       0.99      0.32      0.49      1257\n",
            "           1       0.12      0.96      0.21       120\n",
            "\n",
            "    accuracy                           0.38      1377\n",
            "   macro avg       0.55      0.64      0.35      1377\n",
            "weighted avg       0.91      0.38      0.46      1377\n",
            "\n"
          ]
        }
      ]
    },
    {
      "cell_type": "code",
      "metadata": {
        "colab": {
          "base_uri": "https://localhost:8080/",
          "height": 265
        },
        "id": "gy3cJmzBJCBb",
        "outputId": "d1c49021-bdee-47e4-da19-21ed769a9a44"
      },
      "source": [
        "## AUC MLPClassifier\n",
        "\n",
        "y_score_train = mlp_model_SMOTE_clv.predict_proba(X_SMOTE_clv)\n",
        "fpr_train, tpr_train, _ = roc_curve(y_SMOTE_clv, y_score_train[:,1])\n",
        "auc_train = roc_auc_score(y_SMOTE_clv, y_score_train[:,1])\n",
        "plt.plot(fpr_train, tpr_train, color='red', label=f'SMOTE - train , auc={auc_train}')\n",
        "\n",
        "y_score_test = mlp_model_SMOTE_clv.predict_proba(X_test_clv.to_numpy())\n",
        "fpr_test, tpr_test, _ = roc_curve(y_test_clv, y_score_test[:,1])\n",
        "auc_test = roc_auc_score(y_test_clv, y_score_test[:,1])\n",
        "plt.plot(fpr_test, tpr_test, color='blue', label=f'SMOTE - test , auc={auc_test}')\n",
        "\n",
        "plt.plot([0, 1], [0, 1], color='navy', lw=2, linestyle='--')\n",
        "plt.legend(loc=4)\n",
        "plt.show()"
      ],
      "execution_count": 119,
      "outputs": [
        {
          "output_type": "display_data",
          "data": {
            "image/png": "[encoded data removed]",
            "text/plain": [
              "<Figure size 432x288 with 1 Axes>"
            ]
          },
          "metadata": {
            "needs_background": "light"
          }
        }
      ]
    },
    {
      "cell_type": "markdown",
      "metadata": {
        "id": "UITvxIRLJfLm"
      },
      "source": [
        "## **SVM**"
      ]
    },
    {
      "cell_type": "code",
      "metadata": {
        "colab": {
          "base_uri": "https://localhost:8080/"
        },
        "id": "Y8QufyKLJdHS",
        "outputId": "66eec0e1-744e-47ef-c3fa-6fb63da0e54c"
      },
      "source": [
        "from sklearn import svm\n",
        "\n",
        "print('SVM model - SMOTE CLV')\n",
        "\n",
        "clf = svm.SVC(probability=True, )\n",
        "\n",
        "predicted_y = []\n",
        "expected_y = []\n",
        "\n",
        "svm_model_SMOTE_clv = clf.fit(X_SMOTE_clv, y_SMOTE_clv)\n",
        "predictions =  svm_model_SMOTE_clv.predict(X_SMOTE_clv)\n",
        "predicted_y.extend(predictions)\n",
        "expected_y.extend(y_SMOTE_clv)\n",
        "report_train = classification_report(expected_y, predicted_y)\n",
        "print('training set')\n",
        "print(report_train) \n",
        "\n",
        "predicted_y = []\n",
        "expected_y = []\n",
        "predictions = svm_model_SMOTE_clv.predict(X_test_clv.to_numpy())\n",
        "predicted_y.extend(predictions)\n",
        "expected_y.extend(y_test_clv)\n",
        "report_test = classification_report(expected_y, predicted_y)\n",
        "print('test set')\n",
        "print(report_test) "
      ],
      "execution_count": 122,
      "outputs": [
        {
          "output_type": "stream",
          "name": "stdout",
          "text": [
            "SVM model - SMOTE CLV\n",
            "training set\n",
            "              precision    recall  f1-score   support\n",
            "\n",
            "           0       0.74      0.51      0.60      4980\n",
            "           1       0.62      0.82      0.71      4980\n",
            "\n",
            "    accuracy                           0.66      9960\n",
            "   macro avg       0.68      0.66      0.66      9960\n",
            "weighted avg       0.68      0.66      0.66      9960\n",
            "\n",
            "test set\n",
            "              precision    recall  f1-score   support\n",
            "\n",
            "           0       0.97      0.52      0.68      1257\n",
            "           1       0.15      0.85      0.25       120\n",
            "\n",
            "    accuracy                           0.55      1377\n",
            "   macro avg       0.56      0.69      0.46      1377\n",
            "weighted avg       0.90      0.55      0.64      1377\n",
            "\n"
          ]
        }
      ]
    },
    {
      "cell_type": "code",
      "metadata": {
        "colab": {
          "base_uri": "https://localhost:8080/",
          "height": 265
        },
        "id": "TSvLqDFuJpmO",
        "outputId": "3f550e65-89c9-4921-cfbf-26570fb2f84e"
      },
      "source": [
        "## AUC SVM\n",
        "\n",
        "y_score_train = svm_model_SMOTE_clv.predict_proba(X_SMOTE_clv)\n",
        "fpr_train, tpr_train, _ = roc_curve(y_SMOTE_clv, y_score_train[:,1])\n",
        "auc_train = roc_auc_score(y_SMOTE_clv, y_score_train[:,1])\n",
        "plt.plot(fpr_train, tpr_train, color='red', label=f'SMOTE - train , auc={auc_train}')\n",
        "\n",
        "y_score_test = svm_model_SMOTE_clv.predict_proba(X_test_clv.to_numpy())\n",
        "fpr_test, tpr_test, _ = roc_curve(y_test_clv, y_score_test[:,1])\n",
        "auc_test = roc_auc_score(y_test_clv, y_score_test[:,1])\n",
        "plt.plot(fpr_test, tpr_test, color='blue', label=f'SMOTE - test , auc={auc_test}')\n",
        "\n",
        "plt.plot([0, 1], [0, 1], color='navy', lw=2, linestyle='--')\n",
        "plt.legend(loc=4)\n",
        "plt.show()"
      ],
      "execution_count": 123,
      "outputs": [
        {
          "output_type": "display_data",
          "data": {
            "image/png": "[encoded data removed]",
            "text/plain": [
              "<Figure size 432x288 with 1 Axes>"
            ]
          },
          "metadata": {
            "needs_background": "light"
          }
        }
      ]
    },
    {
      "cell_type": "markdown",
      "metadata": {
        "id": "G0bDRjS6MDxA"
      },
      "source": [
        "## **AdaBoostClassifier**"
      ]
    },
    {
      "cell_type": "code",
      "metadata": {
        "colab": {
          "base_uri": "https://localhost:8080/"
        },
        "id": "DEEg3m2LMA3w",
        "outputId": "65bbc765-8220-4efd-fa70-edf89d38e974"
      },
      "source": [
        "from sklearn.ensemble import AdaBoostClassifier\n",
        "\n",
        "print('SVM model - SMOTE CLV')\n",
        "\n",
        "clf = AdaBoostClassifier(n_estimators=100, random_state=0)\n",
        "\n",
        "predicted_y = []\n",
        "expected_y = []\n",
        "\n",
        "ada_model_SMOTE_clv = clf.fit(X_SMOTE_clv, y_SMOTE_clv)\n",
        "predictions =  ada_model_SMOTE_clv.predict(X_SMOTE_clv)\n",
        "predicted_y.extend(predictions)\n",
        "expected_y.extend(y_SMOTE_clv)\n",
        "report_train = classification_report(expected_y, predicted_y)\n",
        "print('training set')\n",
        "print(report_train) \n",
        "\n",
        "predicted_y = []\n",
        "expected_y = []\n",
        "predictions = ada_model_SMOTE_clv.predict(X_test_clv.to_numpy())\n",
        "predicted_y.extend(predictions)\n",
        "expected_y.extend(y_test_clv)\n",
        "report_test = classification_report(expected_y, predicted_y)\n",
        "print('test set')\n",
        "print(report_test) "
      ],
      "execution_count": 126,
      "outputs": [
        {
          "output_type": "stream",
          "name": "stdout",
          "text": [
            "SVM model - SMOTE CLV\n",
            "training set\n",
            "              precision    recall  f1-score   support\n",
            "\n",
            "           0       0.83      0.87      0.85      4980\n",
            "           1       0.87      0.82      0.84      4980\n",
            "\n",
            "    accuracy                           0.85      9960\n",
            "   macro avg       0.85      0.85      0.85      9960\n",
            "weighted avg       0.85      0.85      0.85      9960\n",
            "\n",
            "test set\n",
            "              precision    recall  f1-score   support\n",
            "\n",
            "           0       0.93      0.86      0.89      1257\n",
            "           1       0.16      0.28      0.20       120\n",
            "\n",
            "    accuracy                           0.81      1377\n",
            "   macro avg       0.54      0.57      0.55      1377\n",
            "weighted avg       0.86      0.81      0.83      1377\n",
            "\n"
          ]
        }
      ]
    },
    {
      "cell_type": "code",
      "metadata": {
        "colab": {
          "base_uri": "https://localhost:8080/",
          "height": 265
        },
        "id": "kXwzXQ32MMgU",
        "outputId": "c79738df-3215-4e59-991e-020654e46c99"
      },
      "source": [
        "## AUC ADA\n",
        "\n",
        "y_score_train = ada_model_SMOTE_clv.predict_proba(X_SMOTE_clv)\n",
        "fpr_train, tpr_train, _ = roc_curve(y_SMOTE_clv, y_score_train[:,1])\n",
        "auc_train = roc_auc_score(y_SMOTE_clv, y_score_train[:,1])\n",
        "plt.plot(fpr_train, tpr_train, color='red', label=f'SMOTE - train , auc={auc_train}')\n",
        "\n",
        "y_score_test = ada_model_SMOTE_clv.predict_proba(X_test_clv.to_numpy())\n",
        "fpr_test, tpr_test, _ = roc_curve(y_test_clv, y_score_test[:,1])\n",
        "auc_test = roc_auc_score(y_test_clv, y_score_test[:,1])\n",
        "plt.plot(fpr_test, tpr_test, color='blue', label=f'SMOTE - test , auc={auc_test}')\n",
        "\n",
        "plt.plot([0, 1], [0, 1], color='navy', lw=2, linestyle='--')\n",
        "plt.legend(loc=4)\n",
        "plt.show()"
      ],
      "execution_count": 127,
      "outputs": [
        {
          "output_type": "display_data",
          "data": {
            "image/png": "[encoded data removed]",
            "text/plain": [
              "<Figure size 432x288 with 1 Axes>"
            ]
          },
          "metadata": {
            "needs_background": "light"
          }
        }
      ]
    },
    {
      "cell_type": "markdown",
      "metadata": {
        "id": "koKm-JMaNR-7"
      },
      "source": [
        "## **RandomForestClassifier**"
      ]
    },
    {
      "cell_type": "code",
      "metadata": {
        "colab": {
          "base_uri": "https://localhost:8080/"
        },
        "id": "g72sEkbgNOm_",
        "outputId": "68849f41-df91-4d5a-92c5-967d1d36312a"
      },
      "source": [
        "print('RandomForestClassifier model - SMOTE CLV')\n",
        "\n",
        "clf = RandomForestClassifier(max_depth=2, random_state=8, max_samples=150)\n",
        "predicted_y = []\n",
        "expected_y = []\n",
        "\n",
        "rf_model_SMOTE_clv = clf.fit(X_SMOTE_clv, y_SMOTE_clv)\n",
        "predictions =  rf_model_SMOTE_clv.predict(X_SMOTE_clv)\n",
        "predicted_y.extend(predictions)\n",
        "expected_y.extend(y_SMOTE_clv)\n",
        "report_train = classification_report(expected_y, predicted_y)\n",
        "print('training set')\n",
        "print(report_train) \n",
        "\n",
        "predicted_y = []\n",
        "expected_y = []\n",
        "predictions = rf_model_SMOTE_clv.predict(X_test_clv.to_numpy())\n",
        "predicted_y.extend(predictions)\n",
        "expected_y.extend(y_test_clv)\n",
        "report_test = classification_report(expected_y, predicted_y)\n",
        "print('test set')\n",
        "print(report_test) "
      ],
      "execution_count": 180,
      "outputs": [
        {
          "output_type": "stream",
          "name": "stdout",
          "text": [
            "RandomForestClassifier model - SMOTE CLV\n",
            "training set\n",
            "              precision    recall  f1-score   support\n",
            "\n",
            "           0       0.75      0.57      0.64      4980\n",
            "           1       0.65      0.81      0.72      4980\n",
            "\n",
            "    accuracy                           0.69      9960\n",
            "   macro avg       0.70      0.69      0.68      9960\n",
            "weighted avg       0.70      0.69      0.68      9960\n",
            "\n",
            "test set\n",
            "              precision    recall  f1-score   support\n",
            "\n",
            "           0       0.97      0.58      0.73      1257\n",
            "           1       0.15      0.79      0.26       120\n",
            "\n",
            "    accuracy                           0.60      1377\n",
            "   macro avg       0.56      0.69      0.49      1377\n",
            "weighted avg       0.90      0.60      0.69      1377\n",
            "\n"
          ]
        }
      ]
    },
    {
      "cell_type": "code",
      "metadata": {
        "colab": {
          "base_uri": "https://localhost:8080/",
          "height": 265
        },
        "id": "NuQ_lPPPNaUS",
        "outputId": "2b53885a-5683-4acb-e5ef-2e9679178a04"
      },
      "source": [
        "## AUC RandomForestClassifier\n",
        "\n",
        "y_score_train = rf_model_SMOTE_clv.predict_proba(X_SMOTE_clv)\n",
        "fpr_train, tpr_train, _ = roc_curve(y_SMOTE_clv, y_score_train[:,1])\n",
        "auc_train = roc_auc_score(y_SMOTE_clv, y_score_train[:,1])\n",
        "plt.plot(fpr_train, tpr_train, color='red', label=f'SMOTE - train , auc={auc_train}')\n",
        "\n",
        "y_score_test = rf_model_SMOTE_clv.predict_proba(X_test_clv.to_numpy())\n",
        "fpr_test, tpr_test, _ = roc_curve(y_test_clv, y_score_test[:,1])\n",
        "auc_test = roc_auc_score(y_test_clv, y_score_test[:,1])\n",
        "plt.plot(fpr_test, tpr_test, color='blue', label=f'SMOTE - test , auc={auc_test}')\n",
        "\n",
        "plt.plot([0, 1], [0, 1], color='navy', lw=2, linestyle='--')\n",
        "plt.legend(loc=4)\n",
        "plt.show()"
      ],
      "execution_count": 181,
      "outputs": [
        {
          "output_type": "display_data",
          "data": {
            "image/png": "[encoded data removed]",
            "text/plain": [
              "<Figure size 432x288 with 1 Axes>"
            ]
          },
          "metadata": {
            "needs_background": "light"
          }
        }
      ]
    },
    {
      "cell_type": "markdown",
      "metadata": {
        "id": "LhfDFH0NP2XC"
      },
      "source": [
        "#### SVM have best performance\n",
        "\n",
        "*   AUC - train = 0.734\n",
        "*   AUC - test = 0.749\n"
      ]
    }
  ]
}